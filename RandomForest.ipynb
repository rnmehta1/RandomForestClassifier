{
 "cells": [
  {
   "cell_type": "code",
   "execution_count": 29,
   "metadata": {},
   "outputs": [],
   "source": [
    "from sklearn.metrics import accuracy_score, log_loss\n",
    "import sklearn\n",
    "from sklearn.tree import DecisionTreeClassifier\n",
    "from sklearn.ensemble import RandomForestClassifier\n",
    "import pandas as pd\n",
    "from sklearn.preprocessing import LabelEncoder\n",
    "from sklearn.model_selection import StratifiedShuffleSplit\n",
    "import numpy as np\n",
    "import matplotlib.pyplot as plt"
   ]
  },
  {
   "cell_type": "code",
   "execution_count": 30,
   "metadata": {},
   "outputs": [],
   "source": [
    "#read training data\n",
    "train = pd.read_csv('train.csv')\n",
    "#read test data\n",
    "test = pd.read_csv('test.csv')\n",
    "dt_x = list()\n",
    "dt_y = list()\n",
    "best_depth = 0\n",
    "best_acc = 0"
   ]
  },
  {
   "cell_type": "code",
   "execution_count": 31,
   "metadata": {},
   "outputs": [],
   "source": [
    "def encode(train, test):\n",
    "    le = LabelEncoder().fit(train.label)\n",
    "    labels = le.transform(train.label)  # encode label\n",
    "    classes = list(le.classes_)  # save column names for submission\n",
    "    test_ids = test.id  # save test ids for submission\n",
    "    train = train.drop('id', axis=1)\n",
    "    train = train.drop('label', axis=1)\n",
    "    test = test.drop('id', axis=1)\n",
    "    return train, labels, test, test_ids, classes\n",
    "\n",
    "train, labels, test, test_ids, classes = encode(train, test)\n",
    "\n",
    "#Make sure heads are at start\n",
    "train.head(1)\n",
    "test.head(1)\n",
    "test=np.array(test)\n"
   ]
  },
  {
   "cell_type": "code",
   "execution_count": 32,
   "metadata": {},
   "outputs": [],
   "source": [
    "#Split the data randomly as 80/20\n",
    "sss = StratifiedShuffleSplit(n_splits=7, test_size=0.2)\n",
    "sss.get_n_splits(train, labels)\n",
    "for train_index, test_index in sss.split(train, labels):\n",
    "    X_train, X_test = train.values[train_index], train.values[test_index]\n",
    "    y_train, y_test = labels[train_index], labels[test_index]"
   ]
  },
  {
   "cell_type": "code",
   "execution_count": 33,
   "metadata": {},
   "outputs": [
    {
     "name": "stdout",
     "output_type": "stream",
     "text": [
      "Accuracy of decision tree for max depth: 2 is: 28.454861111111114 %\n",
      "Accuracy of decision tree for max depth: 3 is: 30.138888888888886 %\n",
      "Accuracy of decision tree for max depth: 4 is: 32.760416666666664 %\n",
      "Accuracy of decision tree for max depth: 5 is: 36.28472222222222 %\n",
      "Accuracy of decision tree for max depth: 6 is: 40.74652777777778 %\n",
      "Accuracy of decision tree for max depth: 7 is: 46.25 %\n",
      "Accuracy of decision tree for max depth: 8 is: 54.861111111111114 %\n",
      "Accuracy of decision tree for max depth: 9 is: 63.05555555555556 %\n",
      "Accuracy of decision tree for max depth: 10 is: 72.95138888888889 %\n",
      "Accuracy of decision tree for max depth: 11 is: 82.23958333333333 %\n",
      "Accuracy of decision tree for max depth: 12 is: 89.47916666666667 %\n"
     ]
    }
   ],
   "source": [
    "#for loop to compare decision trees from depth=2 to 12\n",
    "#Going to 12 because trees start overfitting after depth of 12\n",
    "for i in range(2, 13):\n",
    "    dt = DecisionTreeClassifier(max_depth=i, criterion='entropy')\n",
    "    dt.fit(X_train, y_train)\n",
    "    predict = dt.predict(X_train)\n",
    "    answer = sklearn.metrics.accuracy_score(y_train, predict) * 100\n",
    "    if answer > best_acc:\n",
    "        best_acc = answer\n",
    "        best_depth = i\n",
    "    print('Accuracy of decision tree for max depth:', i, 'is:', answer, '%')\n",
    "    dt_x.append(i)\n",
    "    dt_y.append(answer)"
   ]
  },
  {
   "cell_type": "code",
   "execution_count": 34,
   "metadata": {},
   "outputs": [],
   "source": [
    "#Limiting generation of forest to 1000 trees \n",
    "#max depth of each tree is chosen from the pool of decision trees above\n",
    "#Best accuracy is calculated in the for loop above\n",
    "#Depth of tree with the best accuracy is selected\n",
    "\n",
    "# Random Forest classifier\n",
    "RFclassifier = RandomForestClassifier(max_depth=best_depth, n_estimators=1000)\n",
    "\n",
    "#Train the model\n",
    "RFclassifier.fit(X_train, y_train)\n",
    "name = RFclassifier.__class__.__name__"
   ]
  },
  {
   "cell_type": "code",
   "execution_count": 35,
   "metadata": {},
   "outputs": [
    {
     "name": "stdout",
     "output_type": "stream",
     "text": [
      "RandomForestClassifier\n",
      "****Results****\n",
      "Accuracy: 84.7222%\n",
      "Log Loss: 1.3162561419968752\n"
     ]
    }
   ],
   "source": [
    "\n",
    "print(name)\n",
    "\n",
    "print('****Results****')\n",
    "\n",
    "#Predict output of data from train.csv\n",
    "train_predictions = RFclassifier.predict(X_test)\n",
    "acc = accuracy_score(y_test, train_predictions)\n",
    "print(\"Accuracy: {:.4%}\".format(acc))\n",
    "\n",
    "train_predictions = RFclassifier.predict_proba(X_test)\n",
    "ll = log_loss(y_test, train_predictions)\n",
    "print(\"Log Loss: {}\".format(ll))\n",
    "\n",
    "test_prediction= RFclassifier.predict(test)"
   ]
  },
  {
   "cell_type": "code",
   "execution_count": 36,
   "metadata": {},
   "outputs": [],
   "source": [
    "# dictionary of predictions\n",
    "dict = {'id': test_ids, 'label': test_prediction}\n",
    "\n",
    "df = pd.DataFrame(dict)\n",
    "\n",
    "# saving the dataframe\n",
    "df.to_csv('predictions.csv',index=False)\n"
   ]
  },
  {
   "cell_type": "code",
   "execution_count": 37,
   "metadata": {},
   "outputs": [
    {
     "data": {
      "image/png": "[encoded data removed]",
      "text/plain": [
       "<Figure size 432x288 with 1 Axes>"
      ]
     },
     "metadata": {
      "needs_background": "light"
     },
     "output_type": "display_data"
    }
   ],
   "source": [
    "#As the depth of decision trees increase accuracy starts increasing.\n",
    "#But Decision trees are prone to overfitting\n",
    "#This problem is solved by the randomforest classifier\n",
    "#Best accuracy is at 89.479% at depth 12 for this run\n",
    "plt.scatter(dt_x, dt_y)\n",
    "plt.title('Decision tree variation of max depth vs accuracy')\n",
    "plt.xlabel('Max depth of decision tree')\n",
    "plt.ylabel('Accuracy of decision tree')\n",
    "plt.show()"
   ]
  },
  {
   "cell_type": "code",
   "execution_count": null,
   "metadata": {},
   "outputs": [],
   "source": []
  }
 ],
 "metadata": {
  "kernelspec": {
   "display_name": "Python 3",
   "language": "python",
   "name": "python3"
  },
  "language_info": {
   "codemirror_mode": {
    "name": "ipython",
    "version": 3
   },
   "file_extension": ".py",
   "mimetype": "text/x-python",
   "name": "python",
   "nbconvert_exporter": "python",
   "pygments_lexer": "ipython3",
   "version": "3.7.4"
  }
 },
 "nbformat": 4,
 "nbformat_minor": 4
}
