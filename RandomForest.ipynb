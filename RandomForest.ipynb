{
 "cells": [
  {
   "cell_type": "code",
   "execution_count": 2,
   "metadata": {},
   "outputs": [],
   "source": [
    "from sklearn.metrics import accuracy_score, log_loss\n",
    "import sklearn\n",
    "from sklearn.tree import DecisionTreeClassifier\n",
    "from sklearn.ensemble import RandomForestClassifier\n",
    "import pandas as pd\n",
    "from sklearn.preprocessing import LabelEncoder\n",
    "from sklearn.model_selection import StratifiedShuffleSplit\n",
    "import numpy as np\n",
    "import matplotlib.pyplot as plt"
   ]
  },
  {
   "cell_type": "code",
   "execution_count": 3,
   "metadata": {},
   "outputs": [],
   "source": [
    "train = pd.read_csv('train.csv')\n",
    "test = pd.read_csv('test.csv')\n",
    "dt_x = list()\n",
    "dt_y = list()\n",
    "best_depth = 0\n",
    "best_acc = 0"
   ]
  },
  {
   "cell_type": "code",
   "execution_count": 4,
   "metadata": {},
   "outputs": [],
   "source": [
    "def encode(train, test):\n",
    "    le = LabelEncoder().fit(train.label)\n",
    "    labels = le.transform(train.label)  # encode label\n",
    "    classes = list(le.classes_)  # save column names for submission\n",
    "    test_ids = test.id  # save test ids for submission\n",
    "    train = train.drop('id', axis=1)\n",
    "    train = train.drop('label', axis=1)\n",
    "    test = test.drop('id', axis=1)\n",
    "    return train, labels, test, test_ids, classes\n",
    "\n",
    "train, labels, test, test_ids, classes = encode(train, test)\n"
   ]
  },
  {
   "cell_type": "code",
   "execution_count": 5,
   "metadata": {},
   "outputs": [],
   "source": [
    "train.head(1)\n",
    "test.head(1)\n",
    "test=np.array(test)"
   ]
  },
  {
   "cell_type": "code",
   "execution_count": 6,
   "metadata": {},
   "outputs": [],
   "source": [
    "sss = StratifiedShuffleSplit(n_splits=7, test_size=0.2)\n",
    "sss.get_n_splits(train, labels)\n",
    "for train_index, test_index in sss.split(train, labels):\n",
    "    X_train, X_test = train.values[train_index], train.values[test_index]\n",
    "    y_train, y_test = labels[train_index], labels[test_index]"
   ]
  },
  {
   "cell_type": "code",
   "execution_count": 7,
   "metadata": {},
   "outputs": [
    {
     "name": "stdout",
     "output_type": "stream",
     "text": [
      "Accuracy of decision tree for max depth: 2 is: 28.26388888888889 %\n",
      "Accuracy of decision tree for max depth: 3 is: 32.10069444444444 %\n",
      "Accuracy of decision tree for max depth: 4 is: 33.81944444444444 %\n",
      "Accuracy of decision tree for max depth: 5 is: 36.28472222222222 %\n",
      "Accuracy of decision tree for max depth: 6 is: 39.947916666666664 %\n",
      "Accuracy of decision tree for max depth: 7 is: 45.520833333333336 %\n",
      "Accuracy of decision tree for max depth: 8 is: 54.427083333333336 %\n",
      "Accuracy of decision tree for max depth: 9 is: 64.0625 %\n",
      "Accuracy of decision tree for max depth: 10 is: 75.05208333333333 %\n"
     ]
    }
   ],
   "source": [
    "#for loop to compare decision trees from depth=2 to 10\n",
    "for i in range(2, 11):\n",
    "    dt = DecisionTreeClassifier(max_depth=i, criterion='entropy')\n",
    "    dt.fit(X_train, y_train)\n",
    "    predict = dt.predict(X_train)\n",
    "    answer = sklearn.metrics.accuracy_score(y_train, predict) * 100\n",
    "    if answer > best_acc:\n",
    "        best_acc = answer\n",
    "        best_depth = i\n",
    "    print('Accuracy of decision tree for max depth:', i, 'is:', answer, '%')\n",
    "    dt_x.append(i)\n",
    "    dt_y.append(answer)"
   ]
  },
  {
   "cell_type": "code",
   "execution_count": 8,
   "metadata": {},
   "outputs": [],
   "source": [
    "#1000 trees, max depth is depth of tree with best accuracy in decision tree for loop\n",
    "RFclassifier = RandomForestClassifier(max_depth=best_depth, n_estimators=1000)\n",
    "\n",
    "# Random Forest classifier\n",
    "RFclassifier.fit(X_train, y_train)\n",
    "name = RFclassifier.__class__.__name__"
   ]
  },
  {
   "cell_type": "code",
   "execution_count": 9,
   "metadata": {},
   "outputs": [
    {
     "name": "stdout",
     "output_type": "stream",
     "text": [
      "==============================\n",
      "RandomForestClassifier\n",
      "****Results****\n",
      "Accuracy: 83.6111%\n",
      "Log Loss: 1.340634279132995\n"
     ]
    }
   ],
   "source": [
    "print(\"=\" * 30)\n",
    "print(name)\n",
    "\n",
    "print('****Results****')\n",
    "train_predictions = RFclassifier.predict(X_test)\n",
    "acc = accuracy_score(y_test, train_predictions)\n",
    "print(\"Accuracy: {:.4%}\".format(acc))\n",
    "\n",
    "train_predictions = RFclassifier.predict_proba(X_test)\n",
    "ll = log_loss(y_test, train_predictions)\n",
    "print(\"Log Loss: {}\".format(ll))\n",
    "\n",
    "test_prediction= RFclassifier.predict(test)"
   ]
  },
  {
   "cell_type": "code",
   "execution_count": 10,
   "metadata": {},
   "outputs": [],
   "source": [
    "# dictionary of predictions\n",
    "dict = {'id': test_ids, 'label': test_prediction}\n",
    "\n",
    "df = pd.DataFrame(dict)\n",
    "\n",
    "# saving the dataframe\n",
    "df.to_csv('predictions.csv',index=False)\n"
   ]
  },
  {
   "cell_type": "code",
   "execution_count": 11,
   "metadata": {},
   "outputs": [
    {
     "data": {
      "image/png": "[encoded data removed]",
      "text/plain": [
       "<Figure size 432x288 with 1 Axes>"
      ]
     },
     "metadata": {
      "needs_background": "light"
     },
     "output_type": "display_data"
    }
   ],
   "source": [
    "plt.scatter(dt_x, dt_y)\n",
    "plt.title('Decision tree variation of max depth vs accuracy')\n",
    "plt.xlabel('Max depth of decision tree')\n",
    "plt.ylabel('Accuracy of decision tree')\n",
    "plt.show()"
   ]
  },
  {
   "cell_type": "code",
   "execution_count": null,
   "metadata": {},
   "outputs": [],
   "source": []
  }
 ],
 "metadata": {
  "kernelspec": {
   "display_name": "Python 3",
   "language": "python",
   "name": "python3"
  },
  "language_info": {
   "codemirror_mode": {
    "name": "ipython",
    "version": 3
   },
   "file_extension": ".py",
   "mimetype": "text/x-python",
   "name": "python",
   "nbconvert_exporter": "python",
   "pygments_lexer": "ipython3",
   "version": "3.7.4"
  }
 },
 "nbformat": 4,
 "nbformat_minor": 4
}
